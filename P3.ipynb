{
 "cells": [
  {
   "cell_type": "markdown",
   "id": "253977d6-50df-41e3-a00a-2834f8519ae6",
   "metadata": {},
   "source": [
    "<!DOCTYPE html>\n",
    "<html>\n",
    "<head>\n",
    "<style>\n",
    "  h1, h2, h4 {\n",
    "    margin-bottom: 0; /* Reduce the bottom margin */\n",
    "  }\n",
    "</style>\n",
    "</head>\n",
    "<body>\n",
    "\n",
    "<h1 style=\"text-align: center; font-family: Times New Roman; margin-bottom: 0;\">M<span style=\"font-size: x-large;\">AGNETIC</span> M<span style=\"font-size: x-large;\">ETHODS</span> L<span style=\"font-size: x-large;\">AB</span> (GPC522)</h1>\n",
    "\n",
    "<h2 style=\"text-align: center; font-family: Times New Roman; margin-top: 0;\"><sup style=\"font-size: larger;\">PRACTICAL - III</sup> </h2>\n",
    "\n",
    "<h3 style=\"text-align: center; font-family: Times New Roman; margin-top: 0;\"><sup style=\"font-size: larger; font-weight: bold;\">Gauss Coefficients</sup> </h3>\n",
    "\n",
    "<h4 style=\"text-align: center; font-family: 'Courier New'; margin-bottom: 0;\">January 22, 2024</h4>\n",
    "<h4 style=\"text-align: center; font-family: 'Courier New'; margin-bottom: 0;\">Name: Riya Singh Rathore</h4>\n",
    "<h4 style=\"text-align: center; font-family: 'Courier New';\">Admission Number: 20JE0801</h4>\n",
    "<h4 style=\"text-align: center; font-family: 'Times New Roman';\">Visit: <a href=\"https://github.com/RiyaSinghRathore/Magnetic-Methods\";\">https://github.com/RiyaSinghRathore/Magnetic-Methods</a> for the Lab Repository</h4>\n",
    "</body>\n",
    "</html>"
   ]
  },
  {
   "cell_type": "code",
   "execution_count": 2,
   "id": "29ceae69-8a81-494a-a00d-82ab18551852",
   "metadata": {},
   "outputs": [],
   "source": [
    "import numpy as np\n",
    "import matplotlib.pyplot as plt\n",
    "import pandas as pd"
   ]
  },
  {
   "cell_type": "markdown",
   "id": "d2ad23f0-0e48-4490-b5f7-5d339883decc",
   "metadata": {},
   "source": [
    "\n",
    "#### <span style=\"font-family: Times New Roman;\">The Gauss coefficients for the dipole and quadrupole components of the geomagnetic field from the various IGRF models are provided below.</span>"
   ]
  },
  {
   "cell_type": "code",
   "execution_count": 3,
   "id": "4caa8eb7-b37d-406f-a6f9-c08f5df178e6",
   "metadata": {},
   "outputs": [
    {
     "data": {
      "text/plain": [
       "[     0          1          2          3          4          5          6  \\\n",
       " 0  gnm  IGRF-1985  IGRF-1990  IGRF-1995  IGRF-2000  IGRF-2005  IGRF-2010   \n",
       " 1  g10     -29873     -29775     -29692   -29619.4   -29554.6   -29496.6   \n",
       " 2  g11      -1905      -1848      -1784    -1728.2   -1669.05   -1586.42   \n",
       " 3  h11       5500       5406       5306     5186.1    5077.99    4944.26   \n",
       " 4  g20      -2072      -2131      -2200    -2267.7   -2337.24   -2396.06   \n",
       " 5  g21       3044       3059       3070     3068.4    3047.69    3026.34   \n",
       " 6  h21      -2197      -2279      -2366    -2481.6    -2594.5   -2708.54   \n",
       " 7  g22       1687       1686       1681     1670.9    1657.76    1668.17   \n",
       " 8  h22       -306       -373       -413       -458    -515.43    -575.73   \n",
       " \n",
       "            7          8  \n",
       " 0  IGRF-2015  IGRF-2020  \n",
       " 1   -29441.5   -29404.8  \n",
       " 2   -1501.77    -1450.9  \n",
       " 3    4795.99     4652.5  \n",
       " 4   -2445.88    -2499.6  \n",
       " 5     3012.2       2982  \n",
       " 6   -2845.41    -2991.6  \n",
       " 7    1676.35       1677  \n",
       " 8    -642.17     -734.6  ]"
      ]
     },
     "metadata": {},
     "output_type": "display_data"
    }
   ],
   "source": [
    "from docx import Document\n",
    "\n",
    "document = Document('Practical 3_WS_23-24.docx')\n",
    "\n",
    "tables = []\n",
    "for table in document.tables:\n",
    "    df = [['' for i in range(len(table.columns))] for j in range(len(table.rows))]\n",
    "    for i, row in enumerate(table.rows):\n",
    "        for j, cell in enumerate(row.cells):\n",
    "            if cell.text:\n",
    "                df[i][j] = cell.text\n",
    "    tables.append(pd.DataFrame(df))\n",
    "    \n",
    "display(tables)"
   ]
  },
  {
   "cell_type": "code",
   "execution_count": null,
   "id": "0a9144aa-6501-4a21-9fe0-01f83d816975",
   "metadata": {},
   "outputs": [],
   "source": []
  }
 ],
 "metadata": {
  "kernelspec": {
   "display_name": "Python 3 (ipykernel)",
   "language": "python",
   "name": "python3"
  },
  "language_info": {
   "codemirror_mode": {
    "name": "ipython",
    "version": 3
   },
   "file_extension": ".py",
   "mimetype": "text/x-python",
   "name": "python",
   "nbconvert_exporter": "python",
   "pygments_lexer": "ipython3",
   "version": "3.12.1"
  }
 },
 "nbformat": 4,
 "nbformat_minor": 5
}
