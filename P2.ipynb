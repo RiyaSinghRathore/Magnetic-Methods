{
 "cells": [
  {
   "cell_type": "markdown",
   "id": "a933c70d-e832-4471-bcfb-2f7620a218c1",
   "metadata": {},
   "source": [
    "<!DOCTYPE html>\n",
    "<html>\n",
    "<head>\n",
    "<style>\n",
    "  h1, h2, h4 {\n",
    "    margin-bottom: 0; /* Reduce the bottom margin */\n",
    "  }\n",
    "</style>\n",
    "</head>\n",
    "<body>\n",
    "\n",
    "<h1 style=\"text-align: center; font-family: Times New Roman; margin-bottom: 0;\">M<span style=\"font-size: x-large;\">AGNETIC</span> M<span style=\"font-size: x-large;\">ETHODS</span> L<span style=\"font-size: x-large;\">AB</span> (GPC522)</h1>\n",
    "\n",
    "<h2 style=\"text-align: center; font-family: Times New Roman; margin-top: 0;\"><sup style=\"font-size: larger;\">PRACTICAL - II</sup> </h2>\n",
    "\n",
    "<h3 style=\"text-align: center; font-family: Times New Roman; margin-top: 0;\"><sup style=\"font-size: larger; font-weight: bold;\">Gridding Techniques</br>(Interpolation Techniques)</sup> </h3>\n",
    "\n",
    "<h4 style=\"text-align: center; font-family: 'Courier New'; margin-bottom: 0;\">January 15, 2024</h4>\n",
    "<h4 style=\"text-align: center; font-family: 'Courier New'; margin-bottom: 0;\">Name: Riya Singh Rathore</h4>\n",
    "<h4 style=\"text-align: center; font-family: 'Courier New';\">Admission Number: 20JE0801</h4>\n",
    "\n",
    "</body>\n",
    "</html>\n"
   ]
  },
  {
   "cell_type": "code",
   "execution_count": 2,
   "id": "fbd3178b-1fce-4b02-a457-ac9097f1104a",
   "metadata": {},
   "outputs": [],
   "source": [
    "# Importing Libraries\n",
    "import numpy as np\n",
    "import matplotlib.pyplot as plt\n",
    "import pandas as pd"
   ]
  },
  {
   "cell_type": "markdown",
   "id": "310d5256-6b98-46c8-8b35-f2c15bf265bf",
   "metadata": {},
   "source": [
    "#### <span style=\"font-family: Times New Roman;\"> For the given data, use the various interpolation techniques for gridding and write your observations. </span>\n",
    "- Kriging Interpolation\n",
    "- Nearest-neighbor Interpolation\n",
    "- Radial Average Interpolation\n",
    "- Triangulation with Linear Interpolation\n",
    "- Additional Radial Average Interpolation"
   ]
  },
  {
   "cell_type": "code",
   "execution_count": null,
   "id": "d7c15082-8a27-476c-8a08-6a9edf9a163e",
   "metadata": {},
   "outputs": [
    {
     "name": "stdout",
     "output_type": "stream",
     "text": [
      "Password:"
     ]
    }
   ],
   "source": []
  },
  {
   "cell_type": "code",
   "execution_count": null,
   "id": "776c2637-bd35-4274-911c-bc0ce6975509",
   "metadata": {},
   "outputs": [],
   "source": []
  }
 ],
 "metadata": {
  "kernelspec": {
   "display_name": "Python 3 (ipykernel)",
   "language": "python",
   "name": "python3"
  },
  "language_info": {
   "codemirror_mode": {
    "name": "ipython",
    "version": 3
   },
   "file_extension": ".py",
   "mimetype": "text/x-python",
   "name": "python",
   "nbconvert_exporter": "python",
   "pygments_lexer": "ipython3",
   "version": "3.12.1"
  }
 },
 "nbformat": 4,
 "nbformat_minor": 5
}
