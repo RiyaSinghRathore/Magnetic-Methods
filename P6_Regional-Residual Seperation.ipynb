{
 "cells": [
  {
   "cell_type": "markdown",
   "id": "943793f6",
   "metadata": {},
   "source": [
    "<!DOCTYPE html>\n",
    "<html>\n",
    "<head>\n",
    "</head>\n",
    "<body>\n",
    "\n",
    "<h1 style=\"text-align: center; font-family: Times New Roman; margin-bottom: 0;\">M<span style=\"font-size: x-large;\">AGNETIC</span> M<span style=\"font-size: x-large;\">ETHODS</span> L<span style=\"font-size: x-large;\">AB</span> (GPC522)</h1>\n",
    "\n",
    "<h2 style=\"text-align: center; font-family: Times New Roman; margin-top: 0;\"><sup style=\"font-size: larger;\">PRACTICAL - VI</sup> </h2>\n",
    "\n",
    "<h3 style=\"text-align: center; font-family: Times New Roman; margin-top: 0;\"><sup style=\"font-size: larger; font-weight: bold;\">Regional-Residual Seperation</sup> </h3>\n",
    "\n",
    "<h4 style=\"text-align: center; font-family: 'Courier New'; margin-bottom: 0;\">Feb 19th, 2024</h4>\n",
    "<h4 style=\"text-align: center; font-family: 'Courier New'; margin-bottom: 0;\">Name: Riya Singh Rathore</h4>\n",
    "<h4 style=\"text-align: center; font-family: 'Courier New';\">Admission Number: 20JE0801</h4>\n",
    "<h4 style=\"text-align: center; font-family: 'Times New Roman';\">Visit: <a href=\"https://github.com/RiyaSinghRathore/Magnetic-Methods\";\">https://github.com/RiyaSinghRathore/Magnetic-Methods</a> for the Lab Repository</h4>\n",
    "\n",
    "</body>\n",
    "</html>\n"
   ]
  },
  {
   "cell_type": "markdown",
   "id": "d5707a6f5d97cb49",
   "metadata": {
    "collapsed": false,
    "jupyter": {
     "outputs_hidden": false
    }
   },
   "source": [
    "### <span style=\"font-family: Times New Roman;\"> Objective:</span>\n",
    "#### <span style=\"font-family: Times New Roman;\"> To perform regional-residual separation on magnetic data.</span>\n"
   ]
  },
  {
   "cell_type": "markdown",
   "id": "91561da34030c649",
   "metadata": {
    "collapsed": false,
    "jupyter": {
     "outputs_hidden": false
    }
   },
   "source": [
    "### <span style=\"font-family: Times New Roman;\"> Plots:</span>\n",
    "#### <span style=\"font-family: Times New Roman;\"> 1. Regional: </span>"
   ]
  },
  {
   "cell_type": "markdown",
   "id": "a89fd94e9f387b36",
   "metadata": {
    "collapsed": false,
    "jupyter": {
     "outputs_hidden": false
    }
   },
   "source": [
    "![](Plots/P6_regional.png)"
   ]
  },
  {
   "cell_type": "markdown",
   "id": "72f5819f7964d2fe",
   "metadata": {
    "collapsed": false,
    "jupyter": {
     "outputs_hidden": false
    }
   },
   "source": [
    "#### <span style=\"font-family: Times New Roman;\"> 2. Residual: </span>"
   ]
  },
  {
   "cell_type": "markdown",
   "id": "30d6ac7c4b1cb893",
   "metadata": {
    "collapsed": false,
    "jupyter": {
     "outputs_hidden": false
    }
   },
   "source": [
    "![](Plots/P6_residual.png)"
   ]
  },
  {
   "cell_type": "markdown",
   "id": "a3e3e9a90586e6fb",
   "metadata": {
    "collapsed": false,
    "jupyter": {
     "outputs_hidden": false
    }
   },
   "source": [
    "### <span style=\"font-family: Times New Roman;\"> Residual Interpretation:</span>\n",
    "<span style=\"font-family: Times New Roman;\"> 1. Almost spherical body implied by closed contour lines.</span>\n",
    "<span style=\"font-family: Times New Roman;\"> 2. Strike direction gives the presence of other point sources.</span>"
   ]
  },
  {
   "cell_type": "code",
   "execution_count": null,
   "id": "aea809d1ccc440fd",
   "metadata": {
    "collapsed": false,
    "jupyter": {
     "outputs_hidden": false
    }
   },
   "outputs": [],
   "source": []
  }
 ],
 "metadata": {
  "kernelspec": {
   "display_name": "Python 3 (ipykernel)",
   "language": "python",
   "name": "python3"
  },
  "language_info": {
   "codemirror_mode": {
    "name": "ipython",
    "version": 3
   },
   "file_extension": ".py",
   "mimetype": "text/x-python",
   "name": "python",
   "nbconvert_exporter": "python",
   "pygments_lexer": "ipython3",
   "version": "3.12.1"
  }
 },
 "nbformat": 4,
 "nbformat_minor": 5
}
