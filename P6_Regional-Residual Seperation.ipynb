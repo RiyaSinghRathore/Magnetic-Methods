{
 "cells": [
  {
   "cell_type": "markdown",
   "id": "943793f6",
   "metadata": {},
   "source": [
    "<!DOCTYPE html>\n",
    "<html>\n",
    "<head>\n",
    "</head>\n",
    "<body>\n",
    "\n",
    "<h1 style=\"text-align: center; font-family: Times New Roman; margin-bottom: 0;\">M<span style=\"font-size: x-large;\">AGNETIC</span> M<span style=\"font-size: x-large;\">ETHODS</span> L<span style=\"font-size: x-large;\">AB</span> (GPC522)</h1>\n",
    "\n",
    "<h2 style=\"text-align: center; font-family: Times New Roman; margin-top: 0;\"><sup style=\"font-size: larger;\">PRACTICAL - VI</sup> </h2>\n",
    "\n",
    "<h3 style=\"text-align: center; font-family: Times New Roman; margin-top: 0;\"><sup style=\"font-size: larger; font-weight: bold;\">Regional-Residual Seperation</sup> </h3>\n",
    "\n",
    "<h4 style=\"text-align: center; font-family: 'Courier New'; margin-bottom: 0;\">April 14, 2024</h4>\n",
    "<h4 style=\"text-align: center; font-family: 'Courier New'; margin-bottom: 0;\">Name: Riya Singh Rathore</h4>\n",
    "<h4 style=\"text-align: center; font-family: 'Courier New';\">Admission Number: 20JE0801</h4>\n",
    "<h4 style=\"text-align: center; font-family: 'Times New Roman';\">Visit: <a href=\"https://github.com/RiyaSinghRathore/Magnetic-Methods\";\">https://github.com/RiyaSinghRathore/Magnetic-Methods</a> for the Lab Repository</h4>\n",
    "\n",
    "</body>\n",
    "</html>\n"
   ]
  },
  {
   "cell_type": "code",
   "execution_count": null,
   "id": "2f9d9599",
   "metadata": {},
   "outputs": [],
   "source": [
    "\n"
   ]
  }
 ],
 "metadata": {},
 "nbformat": 4,
 "nbformat_minor": 5
}
