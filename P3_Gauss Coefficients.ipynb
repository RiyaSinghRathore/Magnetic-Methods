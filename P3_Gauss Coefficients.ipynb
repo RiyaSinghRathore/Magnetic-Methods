{
 "cells": [
  {
   "cell_type": "markdown",
   "id": "253977d6-50df-41e3-a00a-2834f8519ae6",
   "metadata": {},
   "source": [
    "<!DOCTYPE html>\n",
    "<html>\n",
    "<head>\n",
    "<style>\n",
    "  h1, h2, h4 {\n",
    "    margin-bottom: 0; /* Reduce the bottom margin */\n",
    "  }\n",
    "</style>\n",
    "</head>\n",
    "<body>\n",
    "\n",
    "<h1 style=\"text-align: center; font-family: Times New Roman; margin-bottom: 0;\">M<span style=\"font-size: x-large;\">AGNETIC</span> M<span style=\"font-size: x-large;\">ETHODS</span> L<span style=\"font-size: x-large;\">AB</span> (GPC522)</h1>\n",
    "\n",
    "<h2 style=\"text-align: center; font-family: Times New Roman; margin-top: 0;\"><sup style=\"font-size: larger;\">PRACTICAL - III</sup> </h2>\n",
    "\n",
    "<h3 style=\"text-align: center; font-family: Times New Roman; margin-top: 0;\"><sup style=\"font-size: larger; font-weight: bold;\">Gauss Coefficients</sup> </h3>\n",
    "\n",
    "<h4 style=\"text-align: center; font-family: 'Courier New'; margin-bottom: 0;\">January 22, 2024</h4>\n",
    "<h4 style=\"text-align: center; font-family: 'Courier New'; margin-bottom: 0;\">Name: Riya Singh Rathore</h4>\n",
    "<h4 style=\"text-align: center; font-family: 'Courier New';\">Admission Number: 20JE0801</h4>\n",
    "<h4 style=\"text-align: center; font-family: 'Times New Roman';\">Visit: <a href=\"https://github.com/RiyaSinghRathore/Magnetic-Methods\";\">https://github.com/RiyaSinghRathore/Magnetic-Methods</a> for the Lab Repository</h4>\n",
    "</body>\n",
    "</html>"
   ]
  },
  {
   "cell_type": "code",
   "execution_count": 1,
   "id": "29ceae69-8a81-494a-a00d-82ab18551852",
   "metadata": {},
   "outputs": [],
   "source": [
    "import numpy as np\n",
    "\n",
    "import matplotlib.pyplot as plt\n",
    "plt.style.use('dark_background')\n",
    "\n",
    "import pandas as pd\n",
    "from docx import Document"
   ]
  },
  {
   "cell_type": "markdown",
   "id": "d2ad23f0-0e48-4490-b5f7-5d339883decc",
   "metadata": {},
   "source": [
    "#### <span style=\"font-family: Times New Roman;\">The Gauss coefficients for the dipole and quadrupole components of the geomagnetic field from the various IGRF models are provided below.</span>"
   ]
  },
  {
   "cell_type": "code",
   "execution_count": 3,
   "id": "4caa8eb7-b37d-406f-a6f9-c08f5df178e6",
   "metadata": {},
   "outputs": [
    {
     "data": {
      "text/html": [
       "<div>\n",
       "<style scoped>\n",
       "    .dataframe tbody tr th:only-of-type {\n",
       "        vertical-align: middle;\n",
       "    }\n",
       "\n",
       "    .dataframe tbody tr th {\n",
       "        vertical-align: top;\n",
       "    }\n",
       "\n",
       "    .dataframe thead th {\n",
       "        text-align: right;\n",
       "    }\n",
       "</style>\n",
       "<table border=\"1\" class=\"dataframe\">\n",
       "  <thead>\n",
       "    <tr style=\"text-align: right;\">\n",
       "      <th></th>\n",
       "      <th>gnm</th>\n",
       "      <th>IGRF-1985</th>\n",
       "      <th>IGRF-1990</th>\n",
       "      <th>IGRF-1995</th>\n",
       "      <th>IGRF-2000</th>\n",
       "      <th>IGRF-2005</th>\n",
       "      <th>IGRF-2010</th>\n",
       "      <th>IGRF-2015</th>\n",
       "      <th>IGRF-2020</th>\n",
       "    </tr>\n",
       "  </thead>\n",
       "  <tbody>\n",
       "    <tr>\n",
       "      <th>0</th>\n",
       "      <td>g10</td>\n",
       "      <td>-29873</td>\n",
       "      <td>-29775</td>\n",
       "      <td>-29692</td>\n",
       "      <td>-29619.4</td>\n",
       "      <td>-29554.6</td>\n",
       "      <td>-29496.6</td>\n",
       "      <td>-29441.5</td>\n",
       "      <td>-29404.8</td>\n",
       "    </tr>\n",
       "    <tr>\n",
       "      <th>1</th>\n",
       "      <td>g11</td>\n",
       "      <td>-1905</td>\n",
       "      <td>-1848</td>\n",
       "      <td>-1784</td>\n",
       "      <td>-1728.2</td>\n",
       "      <td>-1669.05</td>\n",
       "      <td>-1586.42</td>\n",
       "      <td>-1501.77</td>\n",
       "      <td>-1450.9</td>\n",
       "    </tr>\n",
       "    <tr>\n",
       "      <th>2</th>\n",
       "      <td>h11</td>\n",
       "      <td>5500</td>\n",
       "      <td>5406</td>\n",
       "      <td>5306</td>\n",
       "      <td>5186.1</td>\n",
       "      <td>5077.99</td>\n",
       "      <td>4944.26</td>\n",
       "      <td>4795.99</td>\n",
       "      <td>4652.5</td>\n",
       "    </tr>\n",
       "    <tr>\n",
       "      <th>3</th>\n",
       "      <td>g20</td>\n",
       "      <td>-2072</td>\n",
       "      <td>-2131</td>\n",
       "      <td>-2200</td>\n",
       "      <td>-2267.7</td>\n",
       "      <td>-2337.24</td>\n",
       "      <td>-2396.06</td>\n",
       "      <td>-2445.88</td>\n",
       "      <td>-2499.6</td>\n",
       "    </tr>\n",
       "    <tr>\n",
       "      <th>4</th>\n",
       "      <td>g21</td>\n",
       "      <td>3044</td>\n",
       "      <td>3059</td>\n",
       "      <td>3070</td>\n",
       "      <td>3068.4</td>\n",
       "      <td>3047.69</td>\n",
       "      <td>3026.34</td>\n",
       "      <td>3012.2</td>\n",
       "      <td>2982</td>\n",
       "    </tr>\n",
       "    <tr>\n",
       "      <th>5</th>\n",
       "      <td>h21</td>\n",
       "      <td>-2197</td>\n",
       "      <td>-2279</td>\n",
       "      <td>-2366</td>\n",
       "      <td>-2481.6</td>\n",
       "      <td>-2594.5</td>\n",
       "      <td>-2708.54</td>\n",
       "      <td>-2845.41</td>\n",
       "      <td>-2991.6</td>\n",
       "    </tr>\n",
       "    <tr>\n",
       "      <th>6</th>\n",
       "      <td>g22</td>\n",
       "      <td>1687</td>\n",
       "      <td>1686</td>\n",
       "      <td>1681</td>\n",
       "      <td>1670.9</td>\n",
       "      <td>1657.76</td>\n",
       "      <td>1668.17</td>\n",
       "      <td>1676.35</td>\n",
       "      <td>1677</td>\n",
       "    </tr>\n",
       "    <tr>\n",
       "      <th>7</th>\n",
       "      <td>h22</td>\n",
       "      <td>-306</td>\n",
       "      <td>-373</td>\n",
       "      <td>-413</td>\n",
       "      <td>-458</td>\n",
       "      <td>-515.43</td>\n",
       "      <td>-575.73</td>\n",
       "      <td>-642.17</td>\n",
       "      <td>-734.6</td>\n",
       "    </tr>\n",
       "  </tbody>\n",
       "</table>\n",
       "</div>"
      ],
      "text/plain": [
       "   gnm IGRF-1985 IGRF-1990 IGRF-1995 IGRF-2000 IGRF-2005 IGRF-2010 IGRF-2015  \\\n",
       "0  g10    -29873    -29775    -29692  -29619.4  -29554.6  -29496.6  -29441.5   \n",
       "1  g11     -1905     -1848     -1784   -1728.2  -1669.05  -1586.42  -1501.77   \n",
       "2  h11      5500      5406      5306    5186.1   5077.99   4944.26   4795.99   \n",
       "3  g20     -2072     -2131     -2200   -2267.7  -2337.24  -2396.06  -2445.88   \n",
       "4  g21      3044      3059      3070    3068.4   3047.69   3026.34    3012.2   \n",
       "5  h21     -2197     -2279     -2366   -2481.6   -2594.5  -2708.54  -2845.41   \n",
       "6  g22      1687      1686      1681    1670.9   1657.76   1668.17   1676.35   \n",
       "7  h22      -306      -373      -413      -458   -515.43   -575.73   -642.17   \n",
       "\n",
       "  IGRF-2020  \n",
       "0  -29404.8  \n",
       "1   -1450.9  \n",
       "2    4652.5  \n",
       "3   -2499.6  \n",
       "4      2982  \n",
       "5   -2991.6  \n",
       "6      1677  \n",
       "7    -734.6  "
      ]
     },
     "execution_count": 3,
     "metadata": {},
     "output_type": "execute_result"
    }
   ],
   "source": [
    "doc = Document('Assignments/Practical 3_WS_23-24.docx')\n",
    "\n",
    "# Convert docx file to pandas dataframe\n",
    "tables = []\n",
    "for table in doc.tables:\n",
    "    data = []\n",
    "    for row in table.rows:\n",
    "        row_data = []\n",
    "        for cell in row.cells:\n",
    "            row_data.append(cell.text)\n",
    "        data.append(row_data)\n",
    "    df = pd.DataFrame(data[1:], columns=data[0])  \n",
    "    tables.append(df)\n",
    "\n",
    "df"
   ]
  },
  {
   "cell_type": "code",
   "execution_count": 3,
   "id": "2b43cf7b-d50d-47ee-b290-ac421b6ed9a9",
   "metadata": {},
   "outputs": [
    {
     "name": "stdout",
     "output_type": "stream",
     "text": [
      "<class 'pandas.core.frame.DataFrame'>\n",
      "RangeIndex: 8 entries, 0 to 7\n",
      "Data columns (total 9 columns):\n",
      " #   Column     Non-Null Count  Dtype \n",
      "---  ------     --------------  ----- \n",
      " 0   gnm        8 non-null      object\n",
      " 1   IGRF-1985  8 non-null      object\n",
      " 2   IGRF-1990  8 non-null      object\n",
      " 3   IGRF-1995  8 non-null      object\n",
      " 4   IGRF-2000  8 non-null      object\n",
      " 5   IGRF-2005  8 non-null      object\n",
      " 6   IGRF-2010  8 non-null      object\n",
      " 7   IGRF-2015  8 non-null      object\n",
      " 8   IGRF-2020  8 non-null      object\n",
      "dtypes: object(9)\n",
      "memory usage: 708.0+ bytes\n"
     ]
    }
   ],
   "source": [
    "df.info()"
   ]
  },
  {
   "cell_type": "code",
   "execution_count": 9,
   "id": "3617c11b-97fc-4dc3-b33f-3913aa35c1cb",
   "metadata": {},
   "outputs": [
    {
     "name": "stdout",
     "output_type": "stream",
     "text": [
      "<class 'pandas.core.frame.DataFrame'>\n",
      "RangeIndex: 8 entries, 0 to 7\n",
      "Data columns (total 9 columns):\n",
      " #   Column     Non-Null Count  Dtype \n",
      "---  ------     --------------  ----- \n",
      " 0   gnm        8 non-null      object\n",
      " 1   IGRF-1985  8 non-null      int64 \n",
      " 2   IGRF-1990  8 non-null      int64 \n",
      " 3   IGRF-1995  8 non-null      int64 \n",
      " 4   IGRF-2000  8 non-null      int64 \n",
      " 5   IGRF-2005  8 non-null      int64 \n",
      " 6   IGRF-2010  8 non-null      int64 \n",
      " 7   IGRF-2015  8 non-null      int64 \n",
      " 8   IGRF-2020  8 non-null      int64 \n",
      "dtypes: int64(8), object(1)\n",
      "memory usage: 708.0+ bytes\n"
     ]
    }
   ],
   "source": [
    "# Convert columns to numeric (float) type\n",
    "df.iloc[:, 1:] = df.iloc[:, 1:].apply(pd.to_numeric)\n",
    "for col in df.columns[1:]:  df[col] = df[col].astype(int)\n",
    "\n",
    "df.info()"
   ]
  },
  {
   "cell_type": "markdown",
   "id": "dec8a08f-fc63-434c-a91e-e71942c7d39f",
   "metadata": {},
   "source": [
    "#### <span style=\"font-family: Times New Roman;\">(a). Calculate the root mean square intensity of the dipole and quadrople components of the geomagnetic field at the Earth's surface for IGRF Models.</span>"
   ]
  },
  {
   "cell_type": "code",
   "execution_count": 11,
   "id": "7a361d13-ed46-439d-83c2-c02a25d09108",
   "metadata": {},
   "outputs": [
    {
     "name": "stdout",
     "output_type": "stream",
     "text": [
      "Root mean square intensity of dipole is:\n",
      " [[42332.61518026]\n",
      " [42189.23391103]\n",
      " [42066.55488628]\n",
      " [41958.81659437]\n",
      " [41862.26169236]\n",
      " [41773.90123031]\n",
      " [41689.93840245]\n",
      " [41634.06576351]]\n"
     ]
    }
   ],
   "source": [
    "values2 = []\n",
    "for col in df.iloc[0:3, 1:].columns:\n",
    "    n = 1\n",
    "    columns = df.iloc[0:2, 1:][col]\n",
    "    d = np.sqrt(np.sum((n + 1) * columns ** 2))\n",
    "    values2.append(d)\n",
    "\n",
    "print(\"Root mean square intensity of dipole is:\\n\", np.array(values2).reshape(8, 1))"
   ]
  },
  {
   "cell_type": "code",
   "execution_count": 12,
   "id": "4af207e0-6344-451a-a4cd-49de2c0b22f1",
   "metadata": {},
   "outputs": [
    {
     "name": "stdout",
     "output_type": "stream",
     "text": [
      "Root mean square intensity of quadrupole is:\n",
      " [[7980.95821315]\n",
      " [8112.04271438]\n",
      " [8250.20308841]\n",
      " [8395.7442791 ]\n",
      " [8524.12980896]\n",
      " [8662.50194805]\n",
      " [8823.80360162]\n",
      " [8982.605691  ]]\n"
     ]
    }
   ],
   "source": [
    "values3 = []\n",
    "for col in df.iloc[3:7, 1:].columns:\n",
    "    n = 2\n",
    "    columns = df.iloc[3:7, 1:][col]\n",
    "    d = np.sqrt(np.sum((n + 1) * columns ** 2))\n",
    "    values3.append(d)\n",
    "\n",
    "print(\"Root mean square intensity of quadrupole is:\\n\", np.array(values3).reshape(8, 1))"
   ]
  },
  {
   "cell_type": "markdown",
   "id": "0658adaf-87c5-465c-b099-cfaa4bdbca8b",
   "metadata": {},
   "source": [
    "#### <span style=\"font-family: Times New Roman;\">(b). Plot the root mean square intensity of both dipole and quadrupole components of the geomagnetic field as a function of time.</span>"
   ]
  },
  {
   "cell_type": "code",
   "execution_count": 13,
   "id": "9f4baead-42dc-4000-b291-ac8250f3ec64",
   "metadata": {},
   "outputs": [
    {
     "data": {
      "image/png": "[encoded data removed]",
      "text/plain": [
       "<Figure size 640x480 with 1 Axes>"
      ]
     },
     "metadata": {},
     "output_type": "display_data"
    }
   ],
   "source": [
    "l = list(df.iloc[:, 1:].columns)\n",
    "l1 = [int(i[5:]) for i in l]\n",
    "\n",
    "plt.scatter(l1, values2, color='r')\n",
    "plt.plot(l1, values2)\n",
    "plt.xlabel(\"Time (Year)\")\n",
    "plt.ylabel(\"Magnetic Field\")\n",
    "plt.title(\"Magnetic Field vs Time (Dipole)\")\n",
    "plt.grid()"
   ]
  },
  {
   "cell_type": "code",
   "execution_count": 14,
   "id": "8b56b54e-6f02-4b75-a4f4-9f40ad2d5758",
   "metadata": {},
   "outputs": [
    {
     "data": {
      "image/png": "[encoded data removed]",
      "text/plain": [
       "<Figure size 640x480 with 1 Axes>"
      ]
     },
     "metadata": {},
     "output_type": "display_data"
    }
   ],
   "source": [
    "plt.scatter(l1, values3, color='r')\n",
    "plt.plot(l1, values3)\n",
    "plt.xlabel(\"Time (Year)\")\n",
    "plt.ylabel(\"Magnetic Field\")\n",
    "plt.title(\"Magnetic Field vs Time (Quadrupole)\")\n",
    "plt.grid()\n",
    "plt.show()"
   ]
  },
  {
   "cell_type": "markdown",
   "id": "dcfe54be-5428-4d65-bdc3-5a7e49d07c43",
   "metadata": {},
   "source": [
    "#### <span style=\"font-family: Times New Roman;\">(c). Estimate average rate change of both dipole and quadrupole components of the geomagnetic field.</span>\n",
    "\n",
    "</br>\n",
    "\n",
    "$$F=\\sqrt{(n+1)\\cdot \\sum_{n=1} \\sum_{m=0}{[(g_n^m)^2+(h_n^m)^2]} }$$\n",
    "<h4 style=\"text-align: center; font-family: Times New Roman; margin-top: 0;\"><sup>where, n = Order </br>  m = Degree </br> g,h = Gauss Coefficients</sup> </h4>"
   ]
  },
  {
   "cell_type": "code",
   "execution_count": 15,
   "id": "54e91b39-083f-406d-adbc-fe66945305be",
   "metadata": {},
   "outputs": [
    {
     "name": "stdout",
     "output_type": "stream",
     "text": [
      "Average rate of change per year for dipole: -19.958554764387166\n",
      "Average rate of change per year for quadrupole: 28.618499367248923\n"
     ]
    }
   ],
   "source": [
    "# Calculate the average rate of change per year for dipole and quadrupole\n",
    "avg_dipole = np.mean(np.diff(values2) / np.diff(l1))\n",
    "avg_quadpole = np.mean(np.diff(values3) / np.diff(l1))\n",
    "\n",
    "print(\"Average rate of change per year for dipole:\", avg_dipole)\n",
    "print(\"Average rate of change per year for quadrupole:\", avg_quadpole)"
   ]
  },
  {
   "cell_type": "code",
   "execution_count": null,
   "id": "71b09ac1-c1dc-4d79-9847-9f2aad15c5fd",
   "metadata": {},
   "outputs": [],
   "source": []
  }
 ],
 "metadata": {
  "kernelspec": {
   "display_name": "Python 3 (ipykernel)",
   "language": "python",
   "name": "python3"
  },
  "language_info": {
   "codemirror_mode": {
    "name": "ipython",
    "version": 3
   },
   "file_extension": ".py",
   "mimetype": "text/x-python",
   "name": "python",
   "nbconvert_exporter": "python",
   "pygments_lexer": "ipython3",
   "version": "3.12.1"
  }
 },
 "nbformat": 4,
 "nbformat_minor": 5
}
