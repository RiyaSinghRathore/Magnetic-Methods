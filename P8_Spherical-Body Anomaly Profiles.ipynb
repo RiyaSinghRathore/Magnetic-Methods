{
 "cells": [
  {
   "cell_type": "markdown",
   "id": "03c59609",
   "metadata": {},
   "source": [
    "<!DOCTYPE html>\n",
    "<html>\n",
    "<head>\n",
    "</head>\n",
    "<body>\n",
    "\n",
    "<h1 style=\"text-align: center; font-family: Times New Roman; margin-bottom: 0;\">M<span style=\"font-size: x-large;\">AGNETIC</span> M<span style=\"font-size: x-large;\">ETHODS</span> L<span style=\"font-size: x-large;\">AB</span> (GPC522)</h1>\n",
    "\n",
    "<h2 style=\"text-align: center; font-family: Times New Roman; margin-top: 0;\"><sup style=\"font-size: larger;\">PRACTICAL - VIII</sup> </h2>\n",
    "\n",
    "<h3 style=\"text-align: center; font-family: Times New Roman; margin-top: 0;\"><sup style=\"font-size: larger; font-weight: bold;\">Spherical-Body Anomaly Profiles</sup> </h3>\n",
    "\n",
    "<h4 style=\"text-align: center; font-family: 'Courier New'; margin-bottom: 0;\">April 14, 2024</h4>\n",
    "<h4 style=\"text-align: center; font-family: 'Courier New'; margin-bottom: 0;\">Name: Riya Singh Rathore</h4>\n",
    "<h4 style=\"text-align: center; font-family: 'Courier New';\">Admission Number: 20JE0801</h4>\n",
    "<h4 style=\"text-align: center; font-family: 'Times New Roman';\">Visit: <a href=\"https://github.com/RiyaSinghRathore/Magnetic-Methods\";\">https://github.com/RiyaSinghRathore/Magnetic-Methods</a> for the Lab Repository</h4>\n",
    "\n",
    "</body>\n",
    "</html>\n"
   ]
  },
  {
   "cell_type": "code",
   "execution_count": null,
   "id": "a300ab10",
   "metadata": {},
   "outputs": [],
   "source": [
    "# Importing Libraries\n",
    "import numpy as np\n",
    "import matplotlib.pyplot as plt\n",
    "import pandas as pd\n"
   ]
  }
 ],
 "metadata": {},
 "nbformat": 4,
 "nbformat_minor": 5
}
